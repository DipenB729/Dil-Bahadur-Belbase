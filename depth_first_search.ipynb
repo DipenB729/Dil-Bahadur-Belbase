{
 "cells": [
  {
   "cell_type": "code",
   "execution_count": 1,
   "id": "04ffa1b9-7e9a-417a-824a-8b9d61a21f18",
   "metadata": {},
   "outputs": [],
   "source": [
    "graph={\n",
    "'9' : [ '5','8'],\n",
    "'5' : [ '2','4'],\n",
    "'8' : [ '3'],\n",
    "'2' : [],\n",
    "'4' : ['3'],\n",
    "'3' : []\n",
    "}"
   ]
  },
  {
   "cell_type": "code",
   "execution_count": 8,
   "id": "f82f7ac9-97b1-4a36-ba76-99aff9d5df25",
   "metadata": {},
   "outputs": [
    {
     "name": "stdout",
     "output_type": "stream",
     "text": [
      "Following is the Depth-First Search\n",
      "9\n",
      "5\n",
      "2\n",
      "4\n",
      "3\n",
      "8\n"
     ]
    }
   ],
   "source": [
    "visited = set() # Set to keep track of visited nodes of graph.\n",
    "\n",
    "def dfs(visited, graph, node):  #function for dfs \n",
    "    if node not in visited:\n",
    "        print (node)\n",
    "        visited.add(node)\n",
    "        for neighbour in graph[node]:\n",
    "            dfs(visited, graph, neighbour)\n",
    "\n",
    "# Driver Code\n",
    "print(\"Following is the Depth-First Search\")\n",
    "dfs(visited, graph, '9')"
   ]
  },
  {
   "cell_type": "code",
   "execution_count": null,
   "id": "17312b47-9e1e-4640-b2bf-a44aed76af23",
   "metadata": {},
   "outputs": [],
   "source": []
  }
 ],
 "metadata": {
  "kernelspec": {
   "display_name": "Python 3 (ipykernel)",
   "language": "python",
   "name": "python3"
  },
  "language_info": {
   "codemirror_mode": {
    "name": "ipython",
    "version": 3
   },
   "file_extension": ".py",
   "mimetype": "text/x-python",
   "name": "python",
   "nbconvert_exporter": "python",
   "pygments_lexer": "ipython3",
   "version": "3.12.1"
  }
 },
 "nbformat": 4,
 "nbformat_minor": 5
}
