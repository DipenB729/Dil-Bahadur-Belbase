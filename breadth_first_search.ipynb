{
 "cells": [
  {
   "cell_type": "code",
   "execution_count": 42,
   "id": "f0b6976f-f4d5-4c46-9649-c1516df583e3",
   "metadata": {},
   "outputs": [],
   "source": [
    "graph={\n",
    "'9' : [ '5','8'],\n",
    "'5' : [ '2','4'],\n",
    "'8' : [ '3'],\n",
    "'2' : [],\n",
    "'4' : ['3'],\n",
    "'3' : []\n",
    "}\n"
   ]
  },
  {
   "cell_type": "code",
   "execution_count": 44,
   "id": "63c00b50-bfb7-49e1-bc24-30c20f9c0910",
   "metadata": {},
   "outputs": [
    {
     "name": "stdout",
     "output_type": "stream",
     "text": [
      "following is breadth first search\n",
      "9 5 8 2 4 3 "
     ]
    }
   ],
   "source": [
    "visited=[]\n",
    "queue=[]\n",
    "def bfs(visited,graph,node):\n",
    "    visited.append(node)\n",
    "    queue.append(node)\n",
    "\n",
    "    while queue:\n",
    "        m=queue.pop(0)\n",
    "        print(m,end= \" \")\n",
    "\n",
    "        for neighbour in graph[m]:\n",
    "            if neighbour not in visited:\n",
    "                visited.append(neighbour)\n",
    "                queue.append(neighbour)\n",
    "\n",
    "#driver code\n",
    "print(\"following is breadth first search\")\n",
    "bfs(visited,graph,'9')\n",
    "\n",
    "          \n",
    "        \n"
   ]
  },
  {
   "cell_type": "code",
   "execution_count": null,
   "id": "a759b7e5-1042-4d50-a758-8275e87e6da4",
   "metadata": {},
   "outputs": [],
   "source": []
  },
  {
   "cell_type": "code",
   "execution_count": null,
   "id": "9f6b9c81-3ca1-4e76-8c8c-0be0037200dc",
   "metadata": {},
   "outputs": [],
   "source": []
  },
  {
   "cell_type": "code",
   "execution_count": null,
   "id": "883503fb-3d96-4f3e-a755-0388f8c8b06f",
   "metadata": {},
   "outputs": [],
   "source": []
  }
 ],
 "metadata": {
  "kernelspec": {
   "display_name": "Python 3 (ipykernel)",
   "language": "python",
   "name": "python3"
  },
  "language_info": {
   "codemirror_mode": {
    "name": "ipython",
    "version": 3
   },
   "file_extension": ".py",
   "mimetype": "text/x-python",
   "name": "python",
   "nbconvert_exporter": "python",
   "pygments_lexer": "ipython3",
   "version": "3.12.1"
  }
 },
 "nbformat": 4,
 "nbformat_minor": 5
}
