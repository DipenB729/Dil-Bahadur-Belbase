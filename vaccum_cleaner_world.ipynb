{
 "cells": [
  {
   "cell_type": "code",
   "execution_count": 1,
   "id": "70a885aa-f122-454e-91ba-c0cd3cac96cc",
   "metadata": {},
   "outputs": [],
   "source": [
    "import random \n",
    "class Environment(object): \n",
    "    def __init__(self): \n",
    "#instatntiate location and condition \n",
    "#0 indicate clean:   1 indicate dirty\n",
    "        self.locationcondition={ 'A' : '0' , 'B' :'1' } \n",
    "#randoized condition in location A and B \n",
    "        self.locationcondition['A']=random.choice([0,1]) \n",
    "        self.locationcondition['B']=random.choice([0,1])"
   ]
  },
  {
   "cell_type": "code",
   "execution_count": 197,
   "id": "e5d8f48a-9554-4f56-9c24-8102f5faa332",
   "metadata": {},
   "outputs": [
    {
     "name": "stdout",
     "output_type": "stream",
     "text": [
      "{'A': 1, 'B': 1}\n",
      "**************************************\n",
      "Vacuum is randomly placed at location B.\n",
      "Location B is dirty.\n",
      "Location B has been cleaned.\n",
      "Moving to location A.\n",
      "Location A is dirty.\n",
      "Location A has been cleaned.\n",
      "After cleaning the final result will be\n",
      "***************************************\n",
      "{'A': 0, 'B': 0}\n"
     ]
    }
   ],
   "source": [
    "import random\n",
    "\n",
    "class ReflexAgent:\n",
    "    def __init__(self, environment):\n",
    "        print(environment.locationcondition)\n",
    "        score=0\n",
    "        print(\"**************************************\")\n",
    "        #instantances performance measure\n",
    "        \n",
    "        # Place vacuum at a random location\n",
    "        vacuum_location = random.randint(0, 1)\n",
    "\n",
    "        # If vacuum at A\n",
    "        if vacuum_location == 0:\n",
    "            print(\"Vacuum is randomly placed at location A.\")\n",
    "            # If location A is dirty\n",
    "            if environment.locationcondition['A'] == 1:\n",
    "                print(\"Location A is dirty.\")\n",
    "                # Suck the dirt and mark as clean\n",
    "                environment.locationcondition['A'] = 0\n",
    "                #score+=1\n",
    "                print(\"Location A has been cleaned.\")\n",
    "                score\n",
    "\n",
    "            # If B is dirty\n",
    "                print(\"moving to location B\")\n",
    "                if environment.locationcondition['B'] == 1:\n",
    "                 print(\"Location B is dirty.\")\n",
    "                # Suck the dirt and mark as clean\n",
    "                 environment.locationcondition['B'] = 0;\n",
    "                  #score+=1\n",
    "                 print(\"Location B has been cleaned.\")\n",
    "            else:\n",
    "                #move to B\n",
    "                print(\"moving to location B\")\n",
    "               #if B is dirty\n",
    "                if Environment.locationcondition['B']==1:\n",
    "                    print(\"location B is dirty\")\n",
    "                    #suck the dirt and mark as clean\n",
    "                    Environment.locationcondition['B']==0;\n",
    "                    print(\"location B has been cleaned\")\n",
    "\n",
    "        # If vacuum at B\n",
    "        elif vacuum_location == 1:\n",
    "            print(\"Vacuum is randomly placed at location B.\")\n",
    "            # If location B is dirty\n",
    "            if environment.locationcondition['B'] == 1:\n",
    "                print(\"Location B is dirty.\")\n",
    "                # Suck the dirt and mark as clean\n",
    "                environment.locationcondition['B'] = 0;\n",
    "                #score+=1\n",
    "                print(\"Location B has been cleaned.\")\n",
    "\n",
    "            # Move to A\n",
    "                print(\"Moving to location A.\")\n",
    "            # If A is dirty\n",
    "                if environment.locationcondition['A'] == 1:\n",
    "                 print(\"Location A is dirty.\")\n",
    "                # Suck the dirt and mark as clean\n",
    "                 environment.locationcondition['A'] = 0;\n",
    "                #score+=1\n",
    "                 print(\"Location A has been cleaned.\")\n",
    "            else:\n",
    "                #move to A\n",
    "                print(\"moving to location A\")\n",
    "               #if B is dirty\n",
    "                if Environment.locationcondition['A']==1:\n",
    "                    print(\"location A is dirty\")\n",
    "                    #suck the dirt and mark as clean\n",
    "                    Environment.locationcondition['A']==0;\n",
    "                    print(\"location A has been cleaned\")        \n",
    "\n",
    "        else:\n",
    "            # Handle the case where the vacuum_location is neither 0 nor 1\n",
    "            print(\"Invalid vacuum location.\")\n",
    "           \n",
    "\n",
    "\n",
    "\n",
    "environment_instance = Environment()\n",
    "reflex_agent_instance =  ReflexAgent(environment_instance)\n",
    "print(\"After cleaning the final result will be\")\n",
    "print(\"***************************************\")\n",
    "print(environment_instance.locationcondition) \n",
    "\n"
   ]
  },
  {
   "cell_type": "code",
   "execution_count": 196,
   "id": "bf9c434b-d6b9-46fb-8719-725587a6a082",
   "metadata": {},
   "outputs": [],
   "source": [
    "#theEnvironment=Environment()\n",
    "#thevaccum=ReflexAgent(theEnvironment)"
   ]
  },
  {
   "cell_type": "code",
   "execution_count": null,
   "id": "5ff90425-0c18-4b2b-bcd1-159105262387",
   "metadata": {},
   "outputs": [],
   "source": []
  },
  {
   "cell_type": "code",
   "execution_count": null,
   "id": "1578eaf6-e13f-43e7-a4ff-9819601d7197",
   "metadata": {},
   "outputs": [],
   "source": []
  },
  {
   "cell_type": "code",
   "execution_count": null,
   "id": "46ba75e3-9d4b-4666-9892-1ad7b551a574",
   "metadata": {},
   "outputs": [],
   "source": []
  },
  {
   "cell_type": "code",
   "execution_count": null,
   "id": "293a96f2-7d84-4193-afe3-ca48e582a0be",
   "metadata": {},
   "outputs": [],
   "source": []
  }
 ],
 "metadata": {
  "kernelspec": {
   "display_name": "Python 3 (ipykernel)",
   "language": "python",
   "name": "python3"
  },
  "language_info": {
   "codemirror_mode": {
    "name": "ipython",
    "version": 3
   },
   "file_extension": ".py",
   "mimetype": "text/x-python",
   "name": "python",
   "nbconvert_exporter": "python",
   "pygments_lexer": "ipython3",
   "version": "3.12.1"
  }
 },
 "nbformat": 4,
 "nbformat_minor": 5
}
